{
 "cells": [
  {
   "cell_type": "markdown",
   "metadata": {},
   "source": [
    "## This notebook containes some application on functional programming and parallel programing "
   ]
  },
  {
   "cell_type": "markdown",
   "metadata": {},
   "source": [
    "#### prepare all the needed libraries."
   ]
  },
  {
   "cell_type": "code",
   "execution_count": 1,
   "metadata": {},
   "outputs": [],
   "source": [
    "%matplotlib inline\n",
    "\n",
    "from PIL import Image\n",
    "from datetime import datetime\n",
    "import time\n"
   ]
  },
  {
   "cell_type": "markdown",
   "metadata": {},
   "source": [
    "1.\tFunctional programming Use functional programming (e.g. in Python) to write a program that cuts long strings into “tweetable” chunks. Make sure that the chunks are not completely independent but remain connected somehow, so that people can still read the complete text (for example like the solutions you found in Research Question 1)"
   ]
  },
  {
   "cell_type": "code",
   "execution_count": 14,
   "metadata": {},
   "outputs": [
    {
     "name": "stdout",
     "output_type": "stream",
     "text": [
      "I'm writing a code using functional programming..\n",
      "to test and understand the concept of threading tweets\n",
      "because the real twitter has limited the amount of tweets characters.\n",
      "To simulate that using python commands \n",
      "so let's see if this works :-D\n"
     ]
    }
   ],
   "source": [
    "###############################################\n",
    "# the first solution iteration using for loop\n",
    "############################################\n",
    "\n",
    "# the message \n",
    "tweets = [\"I'm writing a code using functional programming..\",\n",
    "          \"to test and understand the concept of threading tweets\",\n",
    "          \"because the real twitter has limited the amount of tweets characters.\",\n",
    "          \"To simulate that using python commands \",\n",
    "          \"so let's see if this works :-D\"]\n",
    "\n",
    "#print(len(tweets))\n",
    "\n",
    "for i in iter(tweets):\n",
    "    print(i)\n",
    "    \n",
    "    time.sleep(2)\n",
    "    "
   ]
  },
  {
   "cell_type": "code",
   "execution_count": 15,
   "metadata": {},
   "outputs": [
    {
     "name": "stdout",
     "output_type": "stream",
     "text": [
      "1 / 5 I'm writing a code using functional programming..\n",
      "2 / 5 to test and understand the concept of threading tweets\n",
      "3 / 5 because the real twitter has limited the amount of tweets characters.\n",
      "4 / 5 To simulate that using python commands \n",
      "5 / 5 so let's see if this works :-D\n"
     ]
    }
   ],
   "source": [
    "#####################################\n",
    "# Looping using enumerate \n",
    "#################################### \n",
    "\n",
    "for index,item in enumerate (tweets):\n",
    "    print(index+1,\"/\",(len(tweets)),item)\n",
    "    time.sleep(2)\n",
    "            "
   ]
  },
  {
   "cell_type": "code",
   "execution_count": 16,
   "metadata": {},
   "outputs": [
    {
     "name": "stdout",
     "output_type": "stream",
     "text": [
      "I'm writing a code using functional programming..\n",
      "to test and understand the concept of threading tweets\n",
      "because the real twitter has limited the amount of tweets characters.\n",
      "To simulate that using python commands \n",
      "so let's see if this works :-D\n"
     ]
    }
   ],
   "source": [
    "#########################################\n",
    "#The second solution using generator function \n",
    "#########################################\n",
    "i = range(len(tweets))\n",
    "def simpleGeneratorFun(): \n",
    "    yield tweets[0]\n",
    "    yield tweets[1]\n",
    "    yield tweets[2]\n",
    "    yield tweets[3]\n",
    "    yield tweets[4]\n",
    "\n",
    "# Driver code to check above generator function \n",
    "for index, value in enumerate(simpleGeneratorFun()):  \n",
    "    print(value) \n",
    "    time.sleep(2)\n",
    "# [https://docs.python.org/2/howto/functional.html]"
   ]
  },
  {
   "cell_type": "code",
   "execution_count": 5,
   "metadata": {},
   "outputs": [
    {
     "name": "stdout",
     "output_type": "stream",
     "text": [
      "I'm writing a code using functional programming..to test and understand the concept of threading tweets\n",
      "because the real twitter has limited the amount of tweets characters.\n",
      "To simulate that using python commands \n",
      "so let's see if this works :-D\n",
      "\n"
     ]
    }
   ],
   "source": [
    "def foo(bar, baz):\n",
    "    print (bar)\n",
    "    \n",
    "\n",
    "from multiprocessing.pool import ThreadPool\n",
    "pool = ThreadPool(processes=4)\n",
    "\n",
    "tweets = [\"I'm writing a code using functional programming..\",\n",
    "          \"to test and understand the concept of threading tweets\",\n",
    "          \"because the real twitter has limited the amount of tweets characters.\",\n",
    "          \"To simulate that using python commands \",\n",
    "          \"so let's see if this works :-D\"]\n",
    "for i in tweets :\n",
    "    async_result = pool.apply_async(foo, (i, 'foo')) # tuple of args for foo\n",
    "\n",
    "# do some other stuff in the main process\n",
    "\n",
    "return_val = async_result.get()  # get the return value from your function."
   ]
  },
  {
   "cell_type": "markdown",
   "metadata": {},
   "source": [
    "2.\tParallel programming Using the tutorial by Software Carpentry as an example (see Preliminary readings), write a parallel processing program to blend together two images of the same size. Choose your own way of blending and use your own example images for testing. Measure and display graphically the execution times when you use different numbers of processors and compare this with your answer to Research Question 4."
   ]
  },
  {
   "cell_type": "code",
   "execution_count": 2,
   "metadata": {},
   "outputs": [
    {
     "name": "stdout",
     "output_type": "stream",
     "text": [
      "Finished in 4.4307699 seconds\n"
     ]
    }
   ],
   "source": [
    "##################################\n",
    "# blend two images serially \n",
    "##################################\n",
    "\n",
    "t1 = time.perf_counter()\n",
    "\n",
    "# Function to change the image size\n",
    "def changeImageSize(maxWidth, \n",
    "                    maxHeight, \n",
    "                    image):\n",
    "    \n",
    "    widthRatio  = maxWidth/image.size[0]\n",
    "    heightRatio = maxHeight/image.size[1]\n",
    "\n",
    "    newWidth    = int(widthRatio*image.size[0])\n",
    "    newHeight   = int(heightRatio*image.size[1])\n",
    "\n",
    "    newImage    = image.resize((newWidth, newHeight))\n",
    "    return newImage\n",
    "    \n",
    "# Take two images for blending them together   \n",
    "image1 = Image.open(r'C:\\Users\\User\\Downloads\\Data centric archetecture\\ass\\layer-masks-image-1.jpg')\n",
    "image2 = Image.open(r'C:\\Users\\User\\Downloads\\Data centric archetecture\\ass\\layer-masks-image-2.jpg')\n",
    "\n",
    "\n",
    "# Make the images of uniform size\n",
    "image3 = changeImageSize(704, 472, image1)\n",
    "image4 = changeImageSize(704, 472, image2)\n",
    "\n",
    "# Make sure images got an alpha channel\n",
    "image5 = image3.convert(\"RGBA\")\n",
    "image6 = image4.convert(\"RGBA\")\n",
    "\n",
    "# Display the images\n",
    "image5.show()\n",
    "image6.show()\n",
    "\n",
    "# alpha-blend the images with varying values of alpha\n",
    "alphaBlended2 = Image.blend(image5, image6, alpha=.4)\n",
    "\n",
    "# Display the alpha-blended images\n",
    "#alphaBlended1.show()\n",
    "alphaBlended2.show()\n",
    "\n",
    "t2 = time.perf_counter()\n",
    "t_sequential= t2-t1\n",
    "\n",
    "print(f'Finished in {t2-t1} seconds')\n",
    "\n",
    "#[https://pythontic.com/image-processing/pillow/blend]"
   ]
  },
  {
   "cell_type": "code",
   "execution_count": 48,
   "metadata": {},
   "outputs": [],
   "source": [
    "import multiprocessing\n",
    "import time\n",
    "from multiprocessing import Process ,Pool\n",
    "import numpy as np \n",
    "from PIL import Image\n",
    "import matplotlib.pyplot as plt\n",
    "\n",
    "\n",
    "\n",
    "def process_image(img_name):\n",
    "    result=list()\n",
    "    img1 = Image.open(img_name)\n",
    "    img1 =  img1.convert(\"RGBA\")\n",
    "    #img1.show()\n",
    "    return img1\n",
    "\n",
    "\n",
    "\n",
    "def blend_img(img1,img2):\n",
    "    img=Image.blend(img1, img2, alpha=.4)\n",
    "    img.show()\n",
    "    return img\n",
    "           \n",
    "\n",
    "\n",
    "if __name__ == '__main__':\n",
    "    PROCESSES =np.arange(1,16)\n",
    "#     print('Creating pool with %d processes\\n' % PROCESSES)\n",
    "    t1 = time.perf_counter()\n",
    "    t_parallel=[]\n",
    "    S_latency=[]\n",
    "    parallel_= 0.8\n",
    "    serial_=0.2\n",
    "    Speed_up=[]\n",
    "    \n",
    "    for index,i in enumerate (PROCESSES):\n",
    "        with multiprocessing.Pool(i) as pool:\n",
    "            \n",
    "            img_names = [\n",
    "            r'C:\\Users\\User\\Downloads\\Data centric archetecture\\ass\\layer-masks-image-1.jpg',\n",
    "            r'C:\\Users\\User\\Downloads\\Data centric archetecture\\ass\\layer-masks-image-2.jpg',]\n",
    "\n",
    "            TASKS = [(process_image(img)) for img in img_names]\n",
    "\n",
    "            blended_img=blend_img(TASKS[0],TASKS[1])\n",
    "            \n",
    "            t_parallel.append( (time.perf_counter()-t1))\n",
    "            \n",
    "            Speed_up.append(t_parallel[index]*(serial_+parallel_/i))\n",
    "            \n",
    "            #S_latency.append((1/(t_parallel[index]/t_sequential)))\n"
   ]
  },
  {
   "cell_type": "code",
   "execution_count": 51,
   "metadata": {},
   "outputs": [
    {
     "data": {
      "text/plain": [
       "Text(0, 0.5, 'speedUp ')"
      ]
     },
     "execution_count": 51,
     "metadata": {},
     "output_type": "execute_result"
    },
    {
     "data": {
      "image/png": "[encoded data removed]",
      "text/plain": [
       "<Figure size 432x288 with 1 Axes>"
      ]
     },
     "metadata": {
      "needs_background": "light"
     },
     "output_type": "display_data"
    }
   ],
   "source": [
    "# plotting nymber of processes with speed up \n",
    "\n",
    "plt.plot( PROCESSES,Speed_up)\n",
    "plt.title(\"blending 2 images parallel\")\n",
    "plt.xlabel(\"number of processes\")\n",
    "plt.ylabel('speedUp ')"
   ]
  },
  {
   "cell_type": "code",
   "execution_count": null,
   "metadata": {},
   "outputs": [],
   "source": []
  },
  {
   "cell_type": "code",
   "execution_count": null,
   "metadata": {},
   "outputs": [],
   "source": []
  }
 ],
 "metadata": {
  "kernelspec": {
   "display_name": "Python 3",
   "language": "python",
   "name": "python3"
  },
  "language_info": {
   "codemirror_mode": {
    "name": "ipython",
    "version": 3
   },
   "file_extension": ".py",
   "mimetype": "text/x-python",
   "name": "python",
   "nbconvert_exporter": "python",
   "pygments_lexer": "ipython3",
   "version": "3.8.5"
  }
 },
 "nbformat": 4,
 "nbformat_minor": 2
}
